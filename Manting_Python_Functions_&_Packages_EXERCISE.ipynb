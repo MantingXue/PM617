{
  "nbformat": 4,
  "nbformat_minor": 0,
  "metadata": {
    "colab": {
      "name": "Manting_Python Functions & Packages-EXERCISE",
      "provenance": [],
      "collapsed_sections": []
    },
    "kernelspec": {
      "name": "python3",
      "display_name": "Python 3"
    }
  },
  "cells": [
    {
      "cell_type": "markdown",
      "metadata": {
        "id": "ZvNsvUNNlZbi",
        "colab_type": "text"
      },
      "source": [
        "---\n",
        "#Crash Course Python for Data Science - Intro to Python  \n",
        "---\n",
        "# 05 - Python Functions & Packages\n",
        "---\n",
        "\n"
      ]
    },
    {
      "cell_type": "markdown",
      "metadata": {
        "id": "y8HUQb0OOztX",
        "colab_type": "text"
      },
      "source": [
        "##STOP! BEFORE GOING ANY FURTHER...  \n",
        "\n",
        "1. Click \"File\" at the top.\n",
        "2. Then, \"Save a Copy in Drive.\"\n",
        "3. Change the file name to something else, so you can differenciate it from the workshop notes. For example, put your name at the beggining: \"Grace_Python Functions & Packages-EXERCISE\".  \n",
        "\n",
        "Now you have a copy of this notebook in your Drive account. This is the copy you'll edit and save for your own archives. You can come back to it as many times as you like to practice again! Be sure to do this for ***every*** exercise!\n",
        "\n",
        "Remember, this exercises are open book, open neighbour, open everything! Try to do them on your own before looking at the solution samples. Join the slack channel to ask your questions. I will be in the channel too!\n",
        "\n",
        "\n"
      ]
    },
    {
      "cell_type": "markdown",
      "metadata": {
        "id": "o57NvhYkBjKH",
        "colab_type": "text"
      },
      "source": [
        "## Part 1: Functions\n"
      ]
    },
    {
      "cell_type": "markdown",
      "metadata": {
        "id": "xMq6Of2Gt24o",
        "colab_type": "text"
      },
      "source": [
        "### Built-in functions\n",
        "\n",
        "\n",
        "---\n",
        "\n",
        "\n",
        "Make sure to run the cell below before beginning your assignment."
      ]
    },
    {
      "cell_type": "code",
      "metadata": {
        "id": "h3r0IvHVuGJb",
        "colab_type": "code",
        "colab": {}
      },
      "source": [
        "x = [\"a\", \"b\", \"c\", \"d\", \"e\", \"f\"]"
      ],
      "execution_count": null,
      "outputs": []
    },
    {
      "cell_type": "markdown",
      "metadata": {
        "id": "4haXpvn1QXW_",
        "colab_type": "text"
      },
      "source": [
        "### 1.1 For the list of values provided and now saved in variable `x`, find the following:\n",
        "\n",
        "\n",
        "*   The max?\n",
        "*   The min?\n",
        "*   Number of elements in the list?\n",
        "*   Sort the list in _descending_ order.\n",
        "\n"
      ]
    },
    {
      "cell_type": "code",
      "metadata": {
        "id": "GnCyKxEU0BMo",
        "colab_type": "code",
        "colab": {
          "base_uri": "https://localhost:8080/",
          "height": 35
        },
        "outputId": "02f96e0d-3117-4be9-c85e-1d58d60e00ce"
      },
      "source": [
        "x = [\"a\", \"b\", \"c\", \"d\", \"e\", \"f\"]\n",
        "max(x)"
      ],
      "execution_count": 1,
      "outputs": [
        {
          "output_type": "execute_result",
          "data": {
            "application/vnd.google.colaboratory.intrinsic": {
              "type": "string"
            },
            "text/plain": [
              "'f'"
            ]
          },
          "metadata": {
            "tags": []
          },
          "execution_count": 1
        }
      ]
    },
    {
      "cell_type": "code",
      "metadata": {
        "id": "j79FBPrS3TFS",
        "colab_type": "code",
        "cellView": "form",
        "colab": {}
      },
      "source": [
        "#@title Double click here for a sample solution\n",
        "\n",
        "max(x)"
      ],
      "execution_count": null,
      "outputs": []
    },
    {
      "cell_type": "code",
      "metadata": {
        "id": "vPdrlKr90HZP",
        "colab_type": "code",
        "colab": {
          "base_uri": "https://localhost:8080/",
          "height": 35
        },
        "outputId": "d3ff3a81-26a1-4774-ceea-18b803b6aa16"
      },
      "source": [
        "x = [\"a\", \"b\", \"c\", \"d\", \"e\", \"f\"]\n",
        "min(x)"
      ],
      "execution_count": 2,
      "outputs": [
        {
          "output_type": "execute_result",
          "data": {
            "application/vnd.google.colaboratory.intrinsic": {
              "type": "string"
            },
            "text/plain": [
              "'a'"
            ]
          },
          "metadata": {
            "tags": []
          },
          "execution_count": 2
        }
      ]
    },
    {
      "cell_type": "code",
      "metadata": {
        "id": "fqbo7QG8hHR8",
        "colab_type": "code",
        "cellView": "form",
        "colab": {}
      },
      "source": [
        "#@title Double click here for a sample solution \n",
        "\n",
        "min(x)"
      ],
      "execution_count": null,
      "outputs": []
    },
    {
      "cell_type": "code",
      "metadata": {
        "id": "hZjbrC3J0OhL",
        "colab_type": "code",
        "colab": {
          "base_uri": "https://localhost:8080/",
          "height": 34
        },
        "outputId": "0325f3b2-3d7f-4ac3-dc03-645df8f11c6c"
      },
      "source": [
        "x = [\"a\", \"b\", \"c\", \"d\", \"e\", \"f\"]\n",
        "list(x)"
      ],
      "execution_count": 3,
      "outputs": [
        {
          "output_type": "execute_result",
          "data": {
            "text/plain": [
              "['a', 'b', 'c', 'd', 'e', 'f']"
            ]
          },
          "metadata": {
            "tags": []
          },
          "execution_count": 3
        }
      ]
    },
    {
      "cell_type": "code",
      "metadata": {
        "id": "sGUwY3OEhJEQ",
        "colab_type": "code",
        "cellView": "form",
        "colab": {}
      },
      "source": [
        "#@title Double click here for a sample solution\n",
        "len(x)"
      ],
      "execution_count": null,
      "outputs": []
    },
    {
      "cell_type": "code",
      "metadata": {
        "id": "pzLNrtRc0ZJo",
        "colab_type": "code",
        "colab": {
          "base_uri": "https://localhost:8080/",
          "height": 34
        },
        "outputId": "e9965147-f77e-4301-956f-cd978342e633"
      },
      "source": [
        "x = [\"a\", \"b\", \"c\", \"d\", \"e\", \"f\"]\n",
        "x.sort(reverse=True)\n",
        "print(x)"
      ],
      "execution_count": 4,
      "outputs": [
        {
          "output_type": "stream",
          "text": [
            "['f', 'e', 'd', 'c', 'b', 'a']\n"
          ],
          "name": "stdout"
        }
      ]
    },
    {
      "cell_type": "code",
      "metadata": {
        "id": "t1EhPlA8g_M1",
        "colab_type": "code",
        "cellView": "form",
        "colab": {}
      },
      "source": [
        "#@title Double click here for a sample solution\n",
        "\n",
        "x.sort(reverse=True)\n",
        "print(x)"
      ],
      "execution_count": null,
      "outputs": []
    },
    {
      "cell_type": "markdown",
      "metadata": {
        "id": "zqzzZomJ0IKf",
        "colab_type": "text"
      },
      "source": [
        "### Methods\n",
        "\n",
        "\n",
        "---\n",
        "\n"
      ]
    },
    {
      "cell_type": "markdown",
      "metadata": {
        "id": "8EYDz3UtQflV",
        "colab_type": "text"
      },
      "source": [
        "### 1.2 Using the same list:\n",
        "\n",
        "*  Remove the second to last element. \n",
        "*  Add the letter \"z\" to the list.\n",
        "*  Empty out the list.\n"
      ]
    },
    {
      "cell_type": "code",
      "metadata": {
        "id": "NMInCHN30pIS",
        "colab_type": "code",
        "colab": {
          "base_uri": "https://localhost:8080/",
          "height": 202
        },
        "outputId": "866b2315-b721-40a8-9989-f1e6610990cf"
      },
      "source": [
        "x = [\"a\", \"b\", \"c\", \"d\", \"e\", \"f\"]\n",
        "x.append[2:]\n",
        "print(x)"
      ],
      "execution_count": 5,
      "outputs": [
        {
          "output_type": "error",
          "ename": "TypeError",
          "evalue": "ignored",
          "traceback": [
            "\u001b[0;31m---------------------------------------------------------------------------\u001b[0m",
            "\u001b[0;31mTypeError\u001b[0m                                 Traceback (most recent call last)",
            "\u001b[0;32m<ipython-input-5-2485fd0508a3>\u001b[0m in \u001b[0;36m<module>\u001b[0;34m()\u001b[0m\n\u001b[1;32m      1\u001b[0m \u001b[0mx\u001b[0m \u001b[0;34m=\u001b[0m \u001b[0;34m[\u001b[0m\u001b[0;34m\"a\"\u001b[0m\u001b[0;34m,\u001b[0m \u001b[0;34m\"b\"\u001b[0m\u001b[0;34m,\u001b[0m \u001b[0;34m\"c\"\u001b[0m\u001b[0;34m,\u001b[0m \u001b[0;34m\"d\"\u001b[0m\u001b[0;34m,\u001b[0m \u001b[0;34m\"e\"\u001b[0m\u001b[0;34m,\u001b[0m \u001b[0;34m\"f\"\u001b[0m\u001b[0;34m]\u001b[0m\u001b[0;34m\u001b[0m\u001b[0;34m\u001b[0m\u001b[0m\n\u001b[0;32m----> 2\u001b[0;31m \u001b[0mx\u001b[0m\u001b[0;34m.\u001b[0m\u001b[0mappend\u001b[0m\u001b[0;34m[\u001b[0m\u001b[0;36m2\u001b[0m\u001b[0;34m:\u001b[0m\u001b[0;34m]\u001b[0m\u001b[0;34m\u001b[0m\u001b[0;34m\u001b[0m\u001b[0m\n\u001b[0m\u001b[1;32m      3\u001b[0m \u001b[0mprint\u001b[0m\u001b[0;34m(\u001b[0m\u001b[0mx\u001b[0m\u001b[0;34m)\u001b[0m\u001b[0;34m\u001b[0m\u001b[0;34m\u001b[0m\u001b[0m\n",
            "\u001b[0;31mTypeError\u001b[0m: 'builtin_function_or_method' object is not subscriptable"
          ]
        }
      ]
    },
    {
      "cell_type": "code",
      "metadata": {
        "id": "HOf18kjSQjZM",
        "colab_type": "code",
        "cellView": "both",
        "colab": {}
      },
      "source": [
        "#@title Double click here for a sample solution\n",
        "\n",
        "del x[1:]\n",
        "print(x)"
      ],
      "execution_count": null,
      "outputs": []
    },
    {
      "cell_type": "code",
      "metadata": {
        "id": "8dzn281l0y6F",
        "colab_type": "code",
        "colab": {
          "base_uri": "https://localhost:8080/",
          "height": 34
        },
        "outputId": "cc1bdacd-4dab-4cbe-f11a-195876510752"
      },
      "source": [
        "x.append('z')\n",
        "print(x)"
      ],
      "execution_count": 7,
      "outputs": [
        {
          "output_type": "stream",
          "text": [
            "['a', 'b', 'c', 'd', 'e', 'f', 'z']\n"
          ],
          "name": "stdout"
        }
      ]
    },
    {
      "cell_type": "code",
      "metadata": {
        "id": "oVdenjpSh9ck",
        "colab_type": "code",
        "cellView": "form",
        "colab": {}
      },
      "source": [
        "#@title Double click here for a sample solution \n",
        "\n",
        "x.append('z')\n",
        "print(x)"
      ],
      "execution_count": null,
      "outputs": []
    },
    {
      "cell_type": "code",
      "metadata": {
        "id": "PA3DoVke05zF",
        "colab_type": "code",
        "colab": {
          "base_uri": "https://localhost:8080/",
          "height": 34
        },
        "outputId": "8c11867f-adf2-4797-f6b2-4145985ef534"
      },
      "source": [
        "x = [\"a\", \"b\", \"c\", \"d\", \"e\", \"f\"]\n",
        "x.clear()\n",
        "print(x)"
      ],
      "execution_count": 8,
      "outputs": [
        {
          "output_type": "stream",
          "text": [
            "[]\n"
          ],
          "name": "stdout"
        }
      ]
    },
    {
      "cell_type": "code",
      "metadata": {
        "id": "guKbhF09iHoO",
        "colab_type": "code",
        "cellView": "form",
        "colab": {}
      },
      "source": [
        "#@title Double click here for a sample solution\n",
        "\n",
        "x.clear()\n",
        "print(x)"
      ],
      "execution_count": null,
      "outputs": []
    },
    {
      "cell_type": "markdown",
      "metadata": {
        "id": "wTJ29ehV4aEA",
        "colab_type": "text"
      },
      "source": [
        "### 1.3 For the string `y` provided:\n",
        "\n",
        "* Split the string at every empty space."
      ]
    },
    {
      "cell_type": "code",
      "metadata": {
        "id": "eoKEv5uS4w29",
        "colab_type": "code",
        "colab": {}
      },
      "source": [
        "y = \"to thine own self be true, and it must follow, as the night the day, thou canst not then be false to any man.\""
      ],
      "execution_count": null,
      "outputs": []
    },
    {
      "cell_type": "code",
      "metadata": {
        "id": "u5rNL_-51Q2A",
        "colab_type": "code",
        "colab": {
          "base_uri": "https://localhost:8080/",
          "height": 425
        },
        "outputId": "9137b771-e2f4-443d-9841-a8d3f9141198"
      },
      "source": [
        "y = \"to thine own self be true, and it must follow, as the night the day, thou canst not then be false to any man.\"\n",
        "y.split()"
      ],
      "execution_count": 10,
      "outputs": [
        {
          "output_type": "execute_result",
          "data": {
            "text/plain": [
              "['to',\n",
              " 'thine',\n",
              " 'own',\n",
              " 'self',\n",
              " 'be',\n",
              " 'true,',\n",
              " 'and',\n",
              " 'it',\n",
              " 'must',\n",
              " 'follow,',\n",
              " 'as',\n",
              " 'the',\n",
              " 'night',\n",
              " 'the',\n",
              " 'day,',\n",
              " 'thou',\n",
              " 'canst',\n",
              " 'not',\n",
              " 'then',\n",
              " 'be',\n",
              " 'false',\n",
              " 'to',\n",
              " 'any',\n",
              " 'man.']"
            ]
          },
          "metadata": {
            "tags": []
          },
          "execution_count": 10
        }
      ]
    },
    {
      "cell_type": "code",
      "metadata": {
        "id": "EtPSugJjibpE",
        "colab_type": "code",
        "cellView": "form",
        "colab": {}
      },
      "source": [
        "#@title Double click here for a sample solution\n",
        "\n",
        "y.split()"
      ],
      "execution_count": null,
      "outputs": []
    },
    {
      "cell_type": "markdown",
      "metadata": {
        "id": "B5hfG_xs0fp0",
        "colab_type": "text"
      },
      "source": [
        "### Custom Functions\n",
        "\n",
        "\n",
        "---\n",
        "\n"
      ]
    },
    {
      "cell_type": "markdown",
      "metadata": {
        "id": "SrhmB_rj0rhB",
        "colab_type": "text"
      },
      "source": [
        "### 1.4 Create a function that returns the sum of two numbers."
      ]
    },
    {
      "cell_type": "code",
      "metadata": {
        "id": "XCDXo3yT1Wdw",
        "colab_type": "code",
        "colab": {
          "base_uri": "https://localhost:8080/",
          "height": 34
        },
        "outputId": "d68571e5-5615-4c4b-8166-edae3295041c"
      },
      "source": [
        "def sum_(a,b):\n",
        "  return a+b\n",
        "sum_(1,2)\n"
      ],
      "execution_count": 15,
      "outputs": [
        {
          "output_type": "execute_result",
          "data": {
            "text/plain": [
              "3"
            ]
          },
          "metadata": {
            "tags": []
          },
          "execution_count": 15
        }
      ]
    },
    {
      "cell_type": "code",
      "metadata": {
        "id": "snTXP3DI0qTX",
        "colab_type": "code",
        "cellView": "form",
        "colab": {}
      },
      "source": [
        "#@title Double click here for a sample solution\n",
        "\n",
        "def sum_(a,b):\n",
        "  return  a+b\n",
        "\n",
        "sum_(2,3)"
      ],
      "execution_count": null,
      "outputs": []
    },
    {
      "cell_type": "markdown",
      "metadata": {
        "id": "YcEwAg9w6PDQ",
        "colab_type": "text"
      },
      "source": [
        "### 1.5 Create a function that, given a list of numbers, returns their average."
      ]
    },
    {
      "cell_type": "code",
      "metadata": {
        "id": "uhgwobPI1a3B",
        "colab_type": "code",
        "colab": {
          "base_uri": "https://localhost:8080/",
          "height": 134
        },
        "outputId": "c3181885-d6e2-4ba9-d044-2ca5315bb7b5"
      },
      "source": [
        "def av_(lst)\n",
        "  return sum(lst)/len(lst)\n",
        "av(1,2,3,4,5)"
      ],
      "execution_count": 18,
      "outputs": [
        {
          "output_type": "error",
          "ename": "SyntaxError",
          "evalue": "ignored",
          "traceback": [
            "\u001b[0;36m  File \u001b[0;32m\"<ipython-input-18-4850b03741bb>\"\u001b[0;36m, line \u001b[0;32m1\u001b[0m\n\u001b[0;31m    def av_(lst)\u001b[0m\n\u001b[0m                ^\u001b[0m\n\u001b[0;31mSyntaxError\u001b[0m\u001b[0;31m:\u001b[0m invalid syntax\n"
          ]
        }
      ]
    },
    {
      "cell_type": "code",
      "metadata": {
        "id": "CM4cRycq6PTC",
        "colab_type": "code",
        "cellView": "both",
        "colab": {}
      },
      "source": [
        "#@title Double click here for a sample solution\n",
        "\n",
        "def av_(lst):\n",
        "  return sum(lst) / len(lst)\n",
        "\n",
        "av_([1,2,3,4,5])"
      ],
      "execution_count": null,
      "outputs": []
    },
    {
      "cell_type": "markdown",
      "metadata": {
        "id": "M8J9LnHR4WnU",
        "colab_type": "text"
      },
      "source": [
        ""
      ]
    },
    {
      "cell_type": "code",
      "metadata": {
        "id": "IMw6vPvR1fWq",
        "colab_type": "code",
        "colab": {
          "base_uri": "https://localhost:8080/",
          "height": 134
        },
        "outputId": "554be922-74aa-4e09-a438-a16d58cf3599"
      },
      "source": [
        "def str(line)\n",
        "return %%capture,rev(line)\n",
        "str(I am working on Python.)"
      ],
      "execution_count": 19,
      "outputs": [
        {
          "output_type": "error",
          "ename": "SyntaxError",
          "evalue": "ignored",
          "traceback": [
            "\u001b[0;36m  File \u001b[0;32m\"<ipython-input-19-5a72d7398054>\"\u001b[0;36m, line \u001b[0;32m1\u001b[0m\n\u001b[0;31m    def str(line)\u001b[0m\n\u001b[0m                 ^\u001b[0m\n\u001b[0;31mSyntaxError\u001b[0m\u001b[0;31m:\u001b[0m invalid syntax\n"
          ]
        }
      ]
    },
    {
      "cell_type": "code",
      "metadata": {
        "id": "lp412i2e6PiN",
        "colab_type": "code",
        "cellView": "both",
        "colab": {}
      },
      "source": [
        "#@title Double click here for a sample solution\n",
        "\n",
        "def up_rev(str_):\n",
        "  return str_[::-1].upper()\n",
        "\n",
        "up_rev('hola')"
      ],
      "execution_count": null,
      "outputs": []
    },
    {
      "cell_type": "markdown",
      "metadata": {
        "id": "MHeit5A_6Pot",
        "colab_type": "text"
      },
      "source": [
        "### 1.7 Create a function that, given a list of strings, concatenates them together with proper spacing."
      ]
    },
    {
      "cell_type": "code",
      "metadata": {
        "id": "V9I8Sw4R1jhs",
        "colab_type": "code",
        "colab": {}
      },
      "source": [
        "def concat_strings(lst):\n",
        "  separator =', '\n",
        "  return separator.join(lst)\n",
        " \n",
        "  test = ['you', 'me', 'he']\n",
        "  concat_strings(test)"
      ],
      "execution_count": 32,
      "outputs": []
    },
    {
      "cell_type": "code",
      "metadata": {
        "id": "nHA4Rg6W6Puu",
        "colab_type": "code",
        "cellView": "both",
        "colab": {}
      },
      "source": [
        "#@title Double click here for a sample solution\n",
        "\n",
        "def concat_strings(lst):\n",
        "  separator = ', '\n",
        "  return separator.join(lst)\n",
        "\n",
        "test = ['Python', 'Java', 'Ruby']\n",
        "concat_strings(test)"
      ],
      "execution_count": null,
      "outputs": []
    },
    {
      "cell_type": "markdown",
      "metadata": {
        "id": "GFpCBnZolyWY",
        "colab_type": "text"
      },
      "source": [
        "## Part 2: Packages"
      ]
    },
    {
      "cell_type": "markdown",
      "metadata": {
        "id": "_sq5HypwyvXS",
        "colab_type": "text"
      },
      "source": [
        "### 2.1 Import the Random library and use it to create a list of ten random numbers from 0-50.\n",
        "There are several ways to do this. Google around and find one that you can replicate here. "
      ]
    },
    {
      "cell_type": "code",
      "metadata": {
        "id": "FVP7sbBO1s9o",
        "colab_type": "code",
        "colab": {
          "base_uri": "https://localhost:8080/",
          "height": 34
        },
        "outputId": "7c389d64-afc1-4e3f-93c0-88d69add695f"
      },
      "source": [
        "import random \n",
        "randomnous = random.sample(range(50), 10)\n",
        "randomnous "
      ],
      "execution_count": 37,
      "outputs": [
        {
          "output_type": "execute_result",
          "data": {
            "text/plain": [
              "[10, 36, 47, 7, 5, 25, 23, 24, 26, 31]"
            ]
          },
          "metadata": {
            "tags": []
          },
          "execution_count": 37
        }
      ]
    },
    {
      "cell_type": "code",
      "metadata": {
        "id": "XD5JruLw1wv4",
        "colab_type": "code",
        "cellView": "form",
        "colab": {}
      },
      "source": [
        "#@title Double click here for a sample solution\n",
        "\n",
        "import random\n",
        "randomnums = random.sample(range(50), 10)\n",
        "randomnums"
      ],
      "execution_count": null,
      "outputs": []
    },
    {
      "cell_type": "markdown",
      "metadata": {
        "colab_type": "text",
        "id": "S_-lYWqF1P3_"
      },
      "source": [
        "### 2.2 Import the Numpy library and assign it an alias \"np\". Then change the list of random numbers you generated into a Numpy array."
      ]
    },
    {
      "cell_type": "code",
      "metadata": {
        "id": "9ZGv7_XM11dM",
        "colab_type": "code",
        "colab": {}
      },
      "source": [
        "import numpy as np\n",
        "a = np.array(randomnous)\n",
        "\n",
        "\n"
      ],
      "execution_count": 40,
      "outputs": []
    },
    {
      "cell_type": "code",
      "metadata": {
        "id": "z06r0lKJl04z",
        "colab_type": "code",
        "cellView": "form",
        "colab": {}
      },
      "source": [
        "#@title Double click here for a sample solution\n",
        "\n",
        "import numpy as np\n",
        "a = np.array(randomnums)\n",
        "a"
      ],
      "execution_count": null,
      "outputs": []
    },
    {
      "cell_type": "markdown",
      "metadata": {
        "id": "Q1E9d9Uq08U-",
        "colab_type": "text"
      },
      "source": [
        "### 2.3 Calculate the mean of the Numpy array. (Hint: Numpy has a method for this.)\n"
      ]
    },
    {
      "cell_type": "code",
      "metadata": {
        "id": "u7Vrw22Y182D",
        "colab_type": "code",
        "colab": {
          "base_uri": "https://localhost:8080/",
          "height": 34
        },
        "outputId": "0d23b814-48a5-42b0-ef3e-6461c7d41eb5"
      },
      "source": [
        "np.mean(a)\n",
        "a = [1,2,3,4,5,6]\n",
        "np.mean(a)"
      ],
      "execution_count": 42,
      "outputs": [
        {
          "output_type": "execute_result",
          "data": {
            "text/plain": [
              "3.5"
            ]
          },
          "metadata": {
            "tags": []
          },
          "execution_count": 42
        }
      ]
    },
    {
      "cell_type": "code",
      "metadata": {
        "id": "Egm3s6S91Ann",
        "colab_type": "code",
        "cellView": "form",
        "colab": {}
      },
      "source": [
        "#@title Double click here for a sample solution\n",
        "\n",
        "np.mean(a)"
      ],
      "execution_count": null,
      "outputs": []
    },
    {
      "cell_type": "markdown",
      "metadata": {
        "id": "BEXzJ3DWy3MF",
        "colab_type": "text"
      },
      "source": [
        "### BONUS: \n",
        "In the cell below, run the following command and see what happens :)  \n",
        "`import this`  \n"
      ]
    },
    {
      "cell_type": "code",
      "metadata": {
        "id": "M3oNCZv-zkpZ",
        "colab_type": "code",
        "colab": {
          "base_uri": "https://localhost:8080/",
          "height": 374
        },
        "outputId": "fcd8e668-af8a-42e0-a4ea-0c1c95a3e586"
      },
      "source": [
        "import this"
      ],
      "execution_count": 43,
      "outputs": [
        {
          "output_type": "stream",
          "text": [
            "The Zen of Python, by Tim Peters\n",
            "\n",
            "Beautiful is better than ugly.\n",
            "Explicit is better than implicit.\n",
            "Simple is better than complex.\n",
            "Complex is better than complicated.\n",
            "Flat is better than nested.\n",
            "Sparse is better than dense.\n",
            "Readability counts.\n",
            "Special cases aren't special enough to break the rules.\n",
            "Although practicality beats purity.\n",
            "Errors should never pass silently.\n",
            "Unless explicitly silenced.\n",
            "In the face of ambiguity, refuse the temptation to guess.\n",
            "There should be one-- and preferably only one --obvious way to do it.\n",
            "Although that way may not be obvious at first unless you're Dutch.\n",
            "Now is better than never.\n",
            "Although never is often better than *right* now.\n",
            "If the implementation is hard to explain, it's a bad idea.\n",
            "If the implementation is easy to explain, it may be a good idea.\n",
            "Namespaces are one honking great idea -- let's do more of those!\n"
          ],
          "name": "stdout"
        }
      ]
    },
    {
      "cell_type": "markdown",
      "metadata": {
        "id": "qVG_ZZyfTjyB",
        "colab_type": "text"
      },
      "source": [
        "### Make sure you save your Exercise notebook! See you next - G\n",
        "\n"
      ]
    }
  ]
}